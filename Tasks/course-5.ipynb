{
 "cells": [
  {
   "cell_type": "code",
   "execution_count": 1,
   "metadata": {},
   "outputs": [],
   "source": [
    "import os\n",
    "import sys\n",
    "import ifcopenshell as _ifc\n",
    "import pandas as pd\n",
    "import openpyxl"
   ]
  },
  {
   "cell_type": "code",
   "execution_count": 2,
   "metadata": {},
   "outputs": [],
   "source": [
    "project_root = os.path.abspath(os.path.join(os.getcwd(), '..'))\n",
    "\n",
    "course_path = os.path.join(project_root, 'Course')\n",
    "if course_path not in sys.path:\n",
    "    sys.path.append(course_path)\n",
    "\n",
    "from _general import mguu_cource_tools"
   ]
  },
  {
   "cell_type": "code",
   "execution_count": 3,
   "metadata": {},
   "outputs": [],
   "source": [
    "def getting_super_table_by_ifc(ifc_file_path):\n",
    "    ifc_file = _ifc.open(ifc_file_path)\n",
    "    ifc_objects = ifc_file.by_type(\"IfcObject\")\n",
    "    list_temp = list()\n",
    "    total_props_names = list()\n",
    "    for ifc_entity in ifc_objects:\n",
    "        temp_props = mguu_cource_tools.get_object_properties(ifc_entity)\n",
    "        list_temp.append(temp_props)\n",
    "        # merge props\n",
    "        current_names = temp_props.keys()\n",
    "        for key in current_names:\n",
    "            if key not in total_props_names:\n",
    "                total_props_names.append(key)\n",
    "    out_data = dict()\n",
    "    for key in total_props_names:\n",
    "        out_data[key] = []\n",
    "    for entity_data in list_temp:\n",
    "        for pr in total_props_names:\n",
    "            if pr in entity_data.keys():\n",
    "                out_data[pr].append(entity_data[pr])\n",
    "            else:\n",
    "                out_data[pr].append(None)\n",
    "    df = pd.DataFrame(data=out_data, columns=total_props_names)\n",
    "    return df"
   ]
  },
  {
   "cell_type": "code",
   "execution_count": 8,
   "metadata": {},
   "outputs": [],
   "source": [
    "example_file_path = os.path.join(project_root, 'DataExamples', 'rme_advanced_sample_project.ifc')"
   ]
  },
  {
   "cell_type": "code",
   "execution_count": 9,
   "metadata": {},
   "outputs": [
    {
     "data": {
      "text/plain": [
       "1"
      ]
     },
     "execution_count": 9,
     "metadata": {},
     "output_type": "execute_result"
    }
   ],
   "source": [
    "ifc_objects_data = mguu_cource_tools.getting_super_table_by_ifc(example_file_path)"
   ]
  },
  {
   "cell_type": "code",
   "execution_count": 12,
   "metadata": {},
   "outputs": [],
   "source": [
    "def get_object_properties(ifc_entity):\n",
    "    temp_props = {\"IfcClass\": ifc_entity.is_a(), \"GlobalId\": ifc_entity.GlobalId}\n",
    "    ifc_props_root = ifc_entity.IsDefinedBy\n",
    "    for props_group in ifc_props_root:\n",
    "        if props_group.is_a(\"IfcRelDefinesByProperties\"):\n",
    "            props_definition = props_group.RelatingPropertyDefinition\n",
    "\n",
    "            def get_prop_data(props_array):\n",
    "                for ps in props_array:\n",
    "                    p_name = ps.Name\n",
    "\n",
    "                    # print(p_name)\n",
    "\n",
    "                    def check_prop(check_value):\n",
    "                        if check_value is not None:\n",
    "                            if isinstance(check_value, (int, float, bool, str)):\n",
    "                                temp_props[p_name] = check_value\n",
    "                            else:\n",
    "                                d_new = check_value.get_info()\n",
    "                                for k2, v2 in d_new.items():\n",
    "                                    check_prop(v2)\n",
    "                        pass\n",
    "\n",
    "                    for k1, v1 in ps.get_info().items():\n",
    "                        check_prop(v1)\n",
    "                pass\n",
    "\n",
    "            # property sets\n",
    "            if props_definition.is_a(\"IfcPropertySet\"):\n",
    "                get_prop_data(props_definition.HasProperties)\n",
    "            # qto\n",
    "            if props_definition.is_a(\"IfcElementQuantity\"):\n",
    "                get_prop_data(props_definition.Quantities)\n",
    "    return temp_props"
   ]
  },
  {
   "cell_type": "code",
   "execution_count": 11,
   "metadata": {},
   "outputs": [],
   "source": [
    "def getting_summa_of_prop_by_category(ifc_file, needing_category_names, needing_prop_sum_names):\n",
    "    ifc_objects = ifc_file.by_type(\"IfcObject\")\n",
    "    ifc_objects_new = list((filter(lambda x: x.is_a() in needing_category_names, ifc_objects)))\n",
    "    out_dict = {\"Object name\" : [], \"Total value\": []}\n",
    "    for ifc_entity in ifc_objects_new:\n",
    "        #print(ifc_entity.get_info())\n",
    "        entity_name = ifc_entity.ObjectType\n",
    "        temp_props = get_object_properties(ifc_entity)\n",
    "        # calc_values\n",
    "        for k, v in temp_props.items():\n",
    "            if k in needing_prop_sum_names:\n",
    "                if entity_name not in out_dict[\"Object name\"]:\n",
    "                    out_dict[\"Object name\"].append(entity_name)\n",
    "                    out_dict[\"Total value\"].append(v)\n",
    "                else:\n",
    "                    index_that_name = out_dict[\"Object name\"].index(entity_name)\n",
    "                    out_dict[\"Total value\"][index_that_name] += v\n",
    "                break\n",
    "    #print(str(out_dict))\n",
    "    df = pd.DataFrame(data=out_dict, columns=out_dict.keys())\n",
    "    return df"
   ]
  },
  {
   "cell_type": "code",
   "execution_count": 10,
   "metadata": {},
   "outputs": [
    {
     "data": {
      "text/plain": [
       "<ifcopenshell.file.file at 0x201d416aec0>"
      ]
     },
     "execution_count": 10,
     "metadata": {},
     "output_type": "execute_result"
    }
   ],
   "source": [
    "ifc_file = _ifc.open(example_file_path)\n",
    "ifc_file"
   ]
  },
  {
   "cell_type": "code",
   "execution_count": 13,
   "metadata": {},
   "outputs": [
    {
     "data": {
      "text/html": [
       "<div>\n",
       "<style scoped>\n",
       "    .dataframe tbody tr th:only-of-type {\n",
       "        vertical-align: middle;\n",
       "    }\n",
       "\n",
       "    .dataframe tbody tr th {\n",
       "        vertical-align: top;\n",
       "    }\n",
       "\n",
       "    .dataframe thead th {\n",
       "        text-align: right;\n",
       "    }\n",
       "</style>\n",
       "<table border=\"1\" class=\"dataframe\">\n",
       "  <thead>\n",
       "    <tr style=\"text-align: right;\">\n",
       "      <th></th>\n",
       "      <th>Object name</th>\n",
       "      <th>Total value</th>\n",
       "    </tr>\n",
       "  </thead>\n",
       "  <tbody>\n",
       "    <tr>\n",
       "      <th>0</th>\n",
       "      <td>Basiswand:STB 30.0</td>\n",
       "      <td>88.571908</td>\n",
       "    </tr>\n",
       "    <tr>\n",
       "      <th>1</th>\n",
       "      <td>Basiswand:STB 20.0</td>\n",
       "      <td>173.773261</td>\n",
       "    </tr>\n",
       "    <tr>\n",
       "      <th>2</th>\n",
       "      <td>Basiswand:STB 30.0 Rot</td>\n",
       "      <td>16.828197</td>\n",
       "    </tr>\n",
       "    <tr>\n",
       "      <th>3</th>\n",
       "      <td>Basiswand:MW 11.5</td>\n",
       "      <td>141.296721</td>\n",
       "    </tr>\n",
       "    <tr>\n",
       "      <th>4</th>\n",
       "      <td>Basiswand:MW 17.5</td>\n",
       "      <td>67.460730</td>\n",
       "    </tr>\n",
       "    <tr>\n",
       "      <th>5</th>\n",
       "      <td>Basiswand:Lamelle 11.5</td>\n",
       "      <td>74.820251</td>\n",
       "    </tr>\n",
       "    <tr>\n",
       "      <th>6</th>\n",
       "      <td>Basiswand:WC Trennwand 5.0</td>\n",
       "      <td>1.610856</td>\n",
       "    </tr>\n",
       "    <tr>\n",
       "      <th>7</th>\n",
       "      <td>Basiswand:STB 25.0 WD 12.0</td>\n",
       "      <td>7.326000</td>\n",
       "    </tr>\n",
       "  </tbody>\n",
       "</table>\n",
       "</div>"
      ],
      "text/plain": [
       "                  Object name  Total value\n",
       "0          Basiswand:STB 30.0    88.571908\n",
       "1          Basiswand:STB 20.0   173.773261\n",
       "2      Basiswand:STB 30.0 Rot    16.828197\n",
       "3           Basiswand:MW 11.5   141.296721\n",
       "4           Basiswand:MW 17.5    67.460730\n",
       "5      Basiswand:Lamelle 11.5    74.820251\n",
       "6  Basiswand:WC Trennwand 5.0     1.610856\n",
       "7  Basiswand:STB 25.0 WD 12.0     7.326000"
      ]
     },
     "execution_count": 13,
     "metadata": {},
     "output_type": "execute_result"
    }
   ],
   "source": [
    "ifc_summa_info = getting_summa_of_prop_by_category(ifc_file, [\"IfcWall\", \"IfcWallStandardCase\"], [\"Volumen\", \"NetVolume\", \"Volume\"])\n",
    "ifc_summa_info"
   ]
  },
  {
   "cell_type": "code",
   "execution_count": 16,
   "metadata": {},
   "outputs": [],
   "source": [
    "ifc_summa_info.to_excel('ifc_summa.xlsx')"
   ]
  }
 ],
 "metadata": {
  "kernelspec": {
   "display_name": "Python 3",
   "language": "python",
   "name": "python3"
  },
  "language_info": {
   "codemirror_mode": {
    "name": "ipython",
    "version": 3
   },
   "file_extension": ".py",
   "mimetype": "text/x-python",
   "name": "python",
   "nbconvert_exporter": "python",
   "pygments_lexer": "ipython3",
   "version": "3.10.7"
  }
 },
 "nbformat": 4,
 "nbformat_minor": 2
}
