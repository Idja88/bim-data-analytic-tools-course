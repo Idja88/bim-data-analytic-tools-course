{
 "cells": [
  {
   "cell_type": "code",
   "execution_count": 36,
   "metadata": {},
   "outputs": [],
   "source": [
    "import sys\n",
    "import os\n",
    "import uuid\n",
    "import ifcopenshell as _ifc"
   ]
  },
  {
   "cell_type": "code",
   "execution_count": 37,
   "metadata": {},
   "outputs": [],
   "source": [
    "project_root = os.path.abspath(os.path.join(os.getcwd(), '..'))\n",
    "\n",
    "course_path = os.path.join(project_root, 'Course')\n",
    "if course_path not in sys.path:\n",
    "    sys.path.append(course_path)\n",
    "\n",
    "from _general import mguu_cource_tools"
   ]
  },
  {
   "cell_type": "code",
   "execution_count": 3,
   "metadata": {},
   "outputs": [
    {
     "name": "stdout",
     "output_type": "stream",
     "text": [
      "{'id': 28, 'type': 'IfcProject', 'GlobalId': '1Rjc2kPKj038IIpily6z$3', 'OwnerHistory': None, 'Name': '1.0.0.0 - 2015', 'Description': None, 'ObjectType': None, 'LongName': 'Частный жилой дом', 'Phase': 'Р', 'RepresentationContexts': (#5=IfcGeometricRepresentationContext('Model','Model',3,0.000001,#4,$),), 'UnitsInContext': #27=IfcUnitAssignment((#8,#9,#6,#7,#10,#11,#12,#13,#23,#26))}\n"
     ]
    }
   ],
   "source": [
    "#by type\n",
    "example_file_path = os.path.join(project_root, 'DataExamples', 'Renga_House.ifc')\n",
    "ifc_file = _ifc.open((example_file_path))\n",
    "ifc_project = ifc_file.by_type(\"IfcProject\")[0]\n",
    "print(str(ifc_project.get_info()))"
   ]
  },
  {
   "cell_type": "code",
   "execution_count": 4,
   "metadata": {},
   "outputs": [
    {
     "name": "stdout",
     "output_type": "stream",
     "text": [
      "step_id = 28\n",
      "{'id': 28, 'type': 'IfcProject', 'GlobalId': '1Rjc2kPKj038IIpily6z$3', 'OwnerHistory': None, 'Name': '1.0.0.0 - 2015', 'Description': None, 'ObjectType': None, 'LongName': 'Частный жилой дом', 'Phase': 'Р', 'RepresentationContexts': (#5=IfcGeometricRepresentationContext('Model','Model',3,0.000001,#4,$),), 'UnitsInContext': #27=IfcUnitAssignment((#8,#9,#6,#7,#10,#11,#12,#13,#23,#26))}\n"
     ]
    }
   ],
   "source": [
    "#by id\n",
    "step_id = ifc_project.id()\n",
    "print(\"step_id = \" + str(step_id))\n",
    "ifc_project = ifc_file.by_id(int(step_id))\n",
    "print(str(ifc_project.get_info()))"
   ]
  },
  {
   "cell_type": "code",
   "execution_count": 5,
   "metadata": {},
   "outputs": [
    {
     "name": "stdout",
     "output_type": "stream",
     "text": [
      "1Rjc2kPKj038IIpily6z$3\n",
      "{'id': 28, 'type': 'IfcProject', 'GlobalId': '1Rjc2kPKj038IIpily6z$3', 'OwnerHistory': None, 'Name': '1.0.0.0 - 2015', 'Description': None, 'ObjectType': None, 'LongName': 'Частный жилой дом', 'Phase': 'Р', 'RepresentationContexts': (#5=IfcGeometricRepresentationContext('Model','Model',3,0.000001,#4,$),), 'UnitsInContext': #27=IfcUnitAssignment((#8,#9,#6,#7,#10,#11,#12,#13,#23,#26))}\n"
     ]
    }
   ],
   "source": [
    "#by uuid\n",
    "guid_old = '5bb660ae-654b-400c-8492-cecbfc1bdfc3'\n",
    "uuid_ifc = mguu_cource_tools.convert_uuid_to_guid(guid_old)\n",
    "print(uuid_ifc)\n",
    "ifc_project = ifc_file.by_guid(uuid_ifc)\n",
    "print(str(ifc_project.get_info()))"
   ]
  },
  {
   "cell_type": "code",
   "execution_count": 6,
   "metadata": {},
   "outputs": [
    {
     "name": "stdout",
     "output_type": "stream",
     "text": [
      "IfcWindow\n"
     ]
    }
   ],
   "source": [
    "#Работа с окном и стеной\n",
    "window_uuid = '1lG7A9IimhR$$PamwmLlhY'\n",
    "ifc_window = ifc_file.by_guid(window_uuid)\n",
    "print(ifc_window.is_a())"
   ]
  },
  {
   "cell_type": "code",
   "execution_count": 7,
   "metadata": {},
   "outputs": [
    {
     "name": "stdout",
     "output_type": "stream",
     "text": [
      "get_inverse\n",
      "IfcRelDefinesByProperties\n",
      "IfcRelDefinesByProperties\n",
      "IfcRelAssociatesMaterial\n",
      "IfcRelContainedInSpatialStructure\n",
      "IfcRelDefinesByType\n",
      "IfcRelFillsElement\n"
     ]
    }
   ],
   "source": [
    "print(\"get_inverse\") # выборвка всех где встречается данный элемент\n",
    "elems_inverse = ifc_file.get_inverse(ifc_window)\n",
    "for elem_inv in elems_inverse:\n",
    "    print(elem_inv.is_a())"
   ]
  },
  {
   "cell_type": "code",
   "execution_count": 8,
   "metadata": {},
   "outputs": [
    {
     "name": "stdout",
     "output_type": "stream",
     "text": [
      "traverse\n",
      "IfcWindow\n",
      "IfcLocalPlacement\n",
      "IfcProductDefinitionShape\n"
     ]
    }
   ],
   "source": [
    "print(\"traverse\") # выборка всех элементов от которых зависит данный элемент\n",
    "elems_traverse = ifc_file.traverse(ifc_window, 1)\n",
    "for elem_tr in elems_traverse:\n",
    "    print(elem_tr.is_a())"
   ]
  },
  {
   "cell_type": "code",
   "execution_count": 25,
   "metadata": {},
   "outputs": [],
   "source": [
    "ifc_file_path = mguu_cource_tools.create_ifc_by_template()"
   ]
  },
  {
   "cell_type": "code",
   "execution_count": 10,
   "metadata": {},
   "outputs": [],
   "source": [
    "#Элементарная геометрия\n",
    "Point_center = 0.0, 0.0, 0.0\n",
    "Dir_x = 1.0, 0.0, 0.0\n",
    "Dir_y = 0.0, 1.0, 0.0\n",
    "Dir_z = 0.0, 0.0, 1.0"
   ]
  },
  {
   "cell_type": "code",
   "execution_count": 11,
   "metadata": {},
   "outputs": [],
   "source": [
    "#Создание IfcAxis2Placement3D\n",
    "def create_IfcAxis2Placement3D(point = Point_center, dir1 = Dir_z, dir2 = Dir_x):\n",
    "    new_ifc_point = ifc_file.createIfcCartesianPoint(point)\n",
    "    new_ifc_dir1 = ifc_file.createIfcDirection(dir1)\n",
    "    new_ifc_dir2 = ifc_file.createIfcDirection(dir2)\n",
    "    new_ifc_IfcAxis2Placement3D = ifc_file.createIfcAxis2Placement3D(new_ifc_point, new_ifc_dir1, new_ifc_dir2)\n",
    "    return new_ifc_IfcAxis2Placement3D"
   ]
  },
  {
   "cell_type": "code",
   "execution_count": 12,
   "metadata": {},
   "outputs": [],
   "source": [
    "#Создание IfcLocalPlacement\n",
    "def create_IfcLocalPlacement(point = Point_center, dir1 = Dir_z, dir2 = Dir_x, relative_to = None):\n",
    "    aux_IfcAxis2Placement3D = create_IfcAxis2Placement3D(point, dir1, dir2)\n",
    "    new_ifc_IfcLocalPlacement = ifc_file.createIfcLocalPlacement(relative_to, aux_IfcAxis2Placement3D)\n",
    "    return new_ifc_IfcLocalPlacement"
   ]
  },
  {
   "cell_type": "code",
   "execution_count": 13,
   "metadata": {},
   "outputs": [],
   "source": [
    "#Создание IfcRightCircularCylinder\n",
    "def create_IfcRightCircularCylinder(object_IfcAxis2Placement3D, height, radius):\n",
    "    new_ifc_IfcRightCircularCylinder = ifc_file.createIfcRightCircularCylinder(object_IfcAxis2Placement3D,height, radius )\n",
    "    return new_ifc_IfcRightCircularCylinder"
   ]
  },
  {
   "cell_type": "code",
   "execution_count": 14,
   "metadata": {},
   "outputs": [],
   "source": [
    "#Создание IfcRightCircularCone\n",
    "def create_IfcRightCircularCone(object_IfcAxis2Placement3D, height, bottom_radius):\n",
    "    new_ifc_IfcRightCircularCone = ifc_file.createIfcRightCircularCone(object_IfcAxis2Placement3D,height, bottom_radius )\n",
    "    return new_ifc_IfcRightCircularCone"
   ]
  },
  {
   "cell_type": "code",
   "execution_count": 26,
   "metadata": {},
   "outputs": [],
   "source": [
    "global ifc_file\n",
    "ifc_file = _ifc.open(ifc_file_path)\n",
    "\n",
    "ifc_project = ifc_file.by_type(\"IfcProject\")[0]\n",
    "ifc_history = ifc_file.by_type(\"IfcOwnerHistory\")[0]\n",
    "ifc_context = ifc_file.by_type(\"IfcGeometricRepresentationContext\")[0]"
   ]
  },
  {
   "cell_type": "code",
   "execution_count": 27,
   "metadata": {},
   "outputs": [],
   "source": [
    "#создание иерархии элементов\n",
    "site_placement = create_IfcLocalPlacement()\n",
    "ifc_site = ifc_file.createIfcSite(\n",
    "    mguu_cource_tools.create_guid(), \n",
    "    ifc_history, \n",
    "    \"Our Site\", \n",
    "    None, \n",
    "    None,\n",
    "    site_placement,\n",
    "    None,\n",
    "    None,\n",
    "    \"ELEMENT\",\n",
    "    None,\n",
    "    None,\n",
    "    None,\n",
    "    None,\n",
    "    None)\n",
    "\n",
    "ifc_building_placement = create_IfcLocalPlacement(relative_to=site_placement)\n",
    "ifc_site = ifc_file.createIfcBuilding(\n",
    "    mguu_cource_tools.create_guid(), \n",
    "    ifc_history, \n",
    "    \"Our Building\", \n",
    "    None, \n",
    "    None,\n",
    "    ifc_building_placement,\n",
    "    None,\n",
    "    None,\n",
    "    \"ELEMENT\",\n",
    "    None,\n",
    "    None,\n",
    "    None)\n",
    "\n",
    "ifc_building_storey_placement = create_IfcLocalPlacement(relative_to=ifc_building_placement)\n",
    "ifc_building_storey = ifc_file.createIfcBuildingStorey(\n",
    "    mguu_cource_tools.create_guid(), \n",
    "    ifc_history, \n",
    "    \"Our Storey\", \n",
    "    None,\n",
    "    None,\n",
    "    ifc_building_storey_placement,\n",
    "    None,\n",
    "    None,\n",
    "    \"ELEMENT\",\n",
    "    1.0)"
   ]
  },
  {
   "cell_type": "code",
   "execution_count": 28,
   "metadata": {},
   "outputs": [],
   "source": [
    "#создание геометрии объектов\n",
    "wall_geometry_height = 6.0\n",
    "wall_geometry_radius = 2.5\n",
    "\n",
    "wall_length = 2*3.14 * wall_geometry_radius\n",
    "wall_area = wall_geometry_height * wall_length\n",
    "wall_volume = 3.14 * (wall_geometry_radius * wall_geometry_radius) * wall_geometry_height\n",
    "\n",
    "wall_placement =  create_IfcLocalPlacement(relative_to=ifc_building_storey_placement)\n",
    "wall_geometry = create_IfcRightCircularCylinder(wall_placement, wall_geometry_height, wall_geometry_radius)\n",
    "wall_representation = ifc_file.createIfcShapeRepresentation(ifc_context, \"Body\", \"SolidModel\", [wall_geometry])\n",
    "wall_shape = ifc_file.createIfcProductDefinitionShape(None, None, [wall_representation])\n",
    "wall_object = ifc_file.createIfcWallStandardCase(mguu_cource_tools.create_guid(), ifc_history, \"our Wall\", None, None, wall_placement, wall_shape, None)\n"
   ]
  },
  {
   "cell_type": "code",
   "execution_count": 29,
   "metadata": {},
   "outputs": [],
   "source": [
    "roof_placement = create_IfcLocalPlacement(point = (0.0, 0.0, wall_geometry_height), relative_to=ifc_building_storey_placement)\n",
    "roof_geometry = create_IfcRightCircularCone(roof_placement, wall_geometry_height/2, wall_geometry_radius + 1.0)\n",
    "roof_representation = ifc_file.createIfcShapeRepresentation(ifc_context, \"Body\", \"SolidModel\", [roof_geometry])\n",
    "roof_shape = ifc_file.createIfcProductDefinitionShape(None, None, [roof_representation])\n",
    "roof_object = ifc_file.createIfcRoof(mguu_cource_tools.create_guid(),ifc_history, \"our Roof\", \n",
    "    None, None, roof_placement, roof_shape, None)"
   ]
  },
  {
   "cell_type": "code",
   "execution_count": 30,
   "metadata": {},
   "outputs": [
    {
     "data": {
      "text/plain": [
       "#60=IfcRelDefinesByProperties('3bnqEkc1SHxxFP47j4eqsE',#5,$,$,(#47),#59)"
      ]
     },
     "execution_count": 30,
     "metadata": {},
     "output_type": "execute_result"
    }
   ],
   "source": [
    "#Работа со свойствами\n",
    "props_list = [\n",
    "    ifc_file.createIfcPropertySingleValue(\"Материал\", \"Наименование материала стены\", ifc_file.create_entity(\"IfcText\", \"Кирпич\"), None ),\n",
    "    ifc_file.createIfcPropertySingleValue(\"Стоимость\", \"Стоимость возведения стены\", ifc_file.create_entity(\"IfcReal\", 1000.0), None )\n",
    "]\n",
    "property_set = ifc_file.createIfcpropertySet(mguu_cource_tools.create_guid(), ifc_history, \"Наш набор свойств\", None, props_list )\n",
    "ifc_file.createIfcRelDefinesByProperties(mguu_cource_tools.create_guid(), ifc_history, None, None, [wall_object], property_set)"
   ]
  },
  {
   "cell_type": "code",
   "execution_count": 31,
   "metadata": {},
   "outputs": [
    {
     "data": {
      "text/plain": [
       "#65=IfcRelDefinesByProperties('3hUNOmc1SHxvP_47j4eqsE',#5,$,$,(#47),#64)"
      ]
     },
     "execution_count": 31,
     "metadata": {},
     "output_type": "execute_result"
    }
   ],
   "source": [
    "#Работа с расчетными характеристиками\n",
    "quantity_list = [\n",
    "    ifc_file.createIfcQuantityLength(\"Длина\", \"Длина стены\", None, wall_length ),\n",
    "    ifc_file.createIfcQuantityArea(\"Площадь\", \"Площадь наружной поверхности стены\", None, wall_area),\n",
    "    ifc_file.createIfcQuantityVolume(\"Объем\", \"Объем стены\",  None, wall_volume)\n",
    "]\n",
    "quant_sets = ifc_file.createIfcElementQuantity(mguu_cource_tools.create_guid(), ifc_history, \"Наш набор расчетных свойств\", None,  None, quantity_list)\n",
    "ifc_file.createIfcRelDefinesByProperties(mguu_cource_tools.create_guid(), ifc_history, None, None, [wall_object], quant_sets )"
   ]
  },
  {
   "cell_type": "code",
   "execution_count": 32,
   "metadata": {},
   "outputs": [],
   "source": [
    "ifc_file.createIfcRelContainedInSpatialStructure(mguu_cource_tools.create_guid(), ifc_history, \"our Wall\", None, [wall_object], ifc_building_storey)\n",
    "\n",
    "ifc_file.write(ifc_file_path)"
   ]
  }
 ],
 "metadata": {
  "kernelspec": {
   "display_name": "Python 3",
   "language": "python",
   "name": "python3"
  },
  "language_info": {
   "codemirror_mode": {
    "name": "ipython",
    "version": 3
   },
   "file_extension": ".py",
   "mimetype": "text/x-python",
   "name": "python",
   "nbconvert_exporter": "python",
   "pygments_lexer": "ipython3",
   "version": "3.10.7"
  },
  "orig_nbformat": 4
 },
 "nbformat": 4,
 "nbformat_minor": 2
}
