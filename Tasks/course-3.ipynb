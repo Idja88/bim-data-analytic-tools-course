{
 "cells": [
  {
   "cell_type": "code",
   "execution_count": 3,
   "metadata": {},
   "outputs": [],
   "source": [
    "import os\n",
    "import sys\n",
    "\n",
    "project_root = os.path.abspath(os.path.join(os.getcwd(), '..'))\n",
    "\n",
    "course_path = os.path.join(project_root, 'Course')\n",
    "if course_path not in sys.path:\n",
    "    sys.path.append(course_path)\n",
    "\n",
    "from _general import mguu_cource_tools\n",
    "import xml.etree.ElementTree as _xml"
   ]
  },
  {
   "cell_type": "code",
   "execution_count": 4,
   "metadata": {},
   "outputs": [
    {
     "data": {
      "text/plain": [
       "{'Eg': {'surfType': 'TIN',\n",
       "  'area2DSurf': '128130.191377',\n",
       "  'area3DSurf': '134153.50617327',\n",
       "  'elevMax': '130.',\n",
       "  'elevMin': '87.'},\n",
       " 'Fg': {'surfType': 'TIN',\n",
       "  'area2DSurf': '33923.83139993',\n",
       "  'area3DSurf': '34131.06979275',\n",
       "  'elevMax': '126.4',\n",
       "  'elevMin': '110.76'}}"
      ]
     },
     "execution_count": 4,
     "metadata": {},
     "output_type": "execute_result"
    }
   ],
   "source": [
    "#Обработка xml\n",
    "xml_file = _xml.parse(mguu_cource_tools.get_example_file_path(\"Landxml_example_surfaces.xml\"))\n",
    "ns_xmlns = \"{http://www.landxml.org/schema/LandXML-1.1}\"\n",
    "xml_surfaces_block = xml_file.find(ns_xmlns + \"Surfaces\")\n",
    "xml_surfaces_list = xml_surfaces_block.findall(ns_xmlns + \"Surface\")\n",
    "surface_data = dict()\n",
    "for xml_surface in xml_surfaces_list:\n",
    "    surface_name = xml_surface.attrib[\"name\"]\n",
    "    xml_surface_def = xml_surface.find(ns_xmlns + \"Definition\")\n",
    "    xml_attrs = xml_surface_def.attrib\n",
    "    attrs_list = dict()\n",
    "    for xml_attr_name in xml_attrs:\n",
    "        attr_value = xml_attrs[xml_attr_name]\n",
    "        attrs_list[xml_attr_name] = attr_value\n",
    "    surface_data[surface_name] = attrs_list\n",
    "\n",
    "surface_data"
   ]
  }
 ],
 "metadata": {
  "kernelspec": {
   "display_name": "Python 3",
   "language": "python",
   "name": "python3"
  },
  "language_info": {
   "codemirror_mode": {
    "name": "ipython",
    "version": 3
   },
   "file_extension": ".py",
   "mimetype": "text/x-python",
   "name": "python",
   "nbconvert_exporter": "python",
   "pygments_lexer": "ipython3",
   "version": "3.10.7"
  },
  "orig_nbformat": 4
 },
 "nbformat": 4,
 "nbformat_minor": 2
}
