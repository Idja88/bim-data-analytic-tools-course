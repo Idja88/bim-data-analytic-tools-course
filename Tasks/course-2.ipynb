{
 "cells": [
  {
   "cell_type": "code",
   "execution_count": 25,
   "metadata": {},
   "outputs": [],
   "source": [
    "import sys\n",
    "import os\n",
    "import ifcopenshell as _ifc"
   ]
  },
  {
   "cell_type": "code",
   "execution_count": 17,
   "metadata": {},
   "outputs": [],
   "source": [
    "project_root = os.path.abspath(os.path.join(os.getcwd(), '..'))\n",
    "\n",
    "course_path = os.path.join(project_root, 'Course')\n",
    "if course_path not in sys.path:\n",
    "    sys.path.append(course_path)\n",
    "\n",
    "from _general import mguu_cource_tools"
   ]
  },
  {
   "cell_type": "code",
   "execution_count": 18,
   "metadata": {},
   "outputs": [],
   "source": [
    "example_file_path = os.path.join(project_root, 'DataExamples', 'Renga_House.ifc')\n",
    "ifc_file = _ifc.open(example_file_path)"
   ]
  },
  {
   "cell_type": "code",
   "execution_count": 19,
   "metadata": {},
   "outputs": [
    {
     "name": "stdout",
     "output_type": "stream",
     "text": [
      "#23280=IfcPropertySingleValue('FireRating',$,$,$)\n",
      "#23281=IfcPropertySingleValue('Reference',$,IfcLabel('Колонна 200x200 мм, L=2900'),$)\n",
      "#23282=IfcPropertySingleValue('Roll',$,IfcPlaneAngleMeasure(0.),#16)\n",
      "#23285=IfcPropertySingleValue('ReinforcementBarType',$,IfcLabel('(нет)'),$)\n"
     ]
    },
    {
     "data": {
      "text/plain": [
       "{'FireRating': None,\n",
       " 'Reference': IfcLabel('Колонна 200x200 мм, L=2900'),\n",
       " 'Roll': IfcPlaneAngleMeasure(0.),\n",
       " 'ReinforcementBarType': IfcLabel('(нет)'),\n",
       " 'CrossSectionArea': 0.04,\n",
       " 'Length': 3000.0,\n",
       " 'NetVolume': 0.112664442783435,\n",
       " 'NetWeight': 77.73846552057,\n",
       " 'OuterSurfaceArea': 2.253288855668695}"
      ]
     },
     "execution_count": 19,
     "metadata": {},
     "output_type": "execute_result"
    }
   ],
   "source": [
    "def read_object_properties(ifc_file, ifc_entity):\n",
    "    out_props = dict()\n",
    "    #IfcRelDefinesByProperties\n",
    "    ifc_root_props = ifc_entity.IsDefinedBy\n",
    "    for props_group in ifc_root_props:\n",
    "        #print(props_group)\n",
    "        props_definition = props_group.RelatingPropertyDefinition\n",
    "        #print(props_definition)\n",
    "        if props_definition.is_a(\"IfcPropertySet\"):\n",
    "            #print(\"IfcPropertySet\")\n",
    "            for props_definition_prop in props_definition.HasProperties:\n",
    "                print(props_definition_prop)\n",
    "                if props_definition_prop.is_a(\"IfcPropertySingleValue\"):\n",
    "                    out_props[props_definition_prop.Name] = props_definition_prop.NominalValue\n",
    "                    #print(str(props_definition_prop.Name) + ' ' + str(props_definition_prop.NominalValue))\n",
    "        elif props_definition.is_a(\"IfcElementQuantity\"):\n",
    "            #print(\"IfcElementQuantity\")\n",
    "            for one_quantity in props_definition.Quantities:\n",
    "                #print(one_quantity)\n",
    "                if one_quantity.is_a(\"IfcQuantityArea\"):\n",
    "                    out_props[one_quantity.Name] = one_quantity.AreaValue\n",
    "                elif one_quantity.is_a(\"IfcQuantityCount\"):\n",
    "                    out_props[one_quantity.Name] = one_quantity.CountValue\n",
    "                elif one_quantity.is_a(\"IfcQuantityLength\"):\n",
    "                    out_props[one_quantity.Name] = one_quantity.LengthValue\n",
    "                elif one_quantity.is_a(\"IfcQuantityTime\"):\n",
    "                    out_props[one_quantity.Name] = one_quantity.TimeValue\n",
    "                elif one_quantity.is_a(\"IfcQuantityVolume\"):\n",
    "                    out_props[one_quantity.Name] = one_quantity.VolumeValue\n",
    "                elif one_quantity.is_a(\"IfcQuantityWeight\"):\n",
    "                    out_props[one_quantity.Name] = one_quantity.WeightValue\n",
    "    return out_props\n",
    "\n",
    "ifc_railing_id = '3ZZpg7C_CNTUvpxzN75M8Y'\n",
    "ifc_railing = ifc_file.by_guid(ifc_railing_id)\n",
    "object_props = read_object_properties(ifc_file=ifc_file, ifc_entity=ifc_railing)\n",
    "\n",
    "object_props"
   ]
  },
  {
   "cell_type": "code",
   "execution_count": 20,
   "metadata": {},
   "outputs": [
    {
     "name": "stdout",
     "output_type": "stream",
     "text": [
      "#12465=IfcProductDefinitionShape($,$,(#12464))\n",
      "#12464=IfcShapeRepresentation(#41,'Body','MappedRepresentation',(#12463))\n",
      "#12463=IfcMappedItem(#12457,#12462)\n",
      "#12452=IfcShapeRepresentation(#41,'Body','Brep',(#12451))\n",
      "#12451=IfcFacetedBrep(#12450)\n",
      "#12432=IfcPolyLoop((#12382,#12383,#12384,#12385))\n",
      "#12382=IfcCartesianPoint((-100.,-100.,2900.521032703575202))\n",
      "#12383=IfcCartesianPoint((-100.,100.,2732.701106468118724))\n",
      "#12384=IfcCartesianPoint((-100.,100.,0.))\n",
      "#12385=IfcCartesianPoint((-100.,-100.,0.))\n",
      "#12435=IfcPolyLoop((#12383,#12389,#12390,#12384))\n",
      "#12383=IfcCartesianPoint((-100.,100.,2732.701106468118724))\n",
      "#12389=IfcCartesianPoint((100.,100.,2732.701106468120543))\n",
      "#12390=IfcCartesianPoint((100.,100.,0.))\n",
      "#12384=IfcCartesianPoint((-100.,100.,0.))\n",
      "#12438=IfcPolyLoop((#12389,#12394,#12395,#12390))\n",
      "#12389=IfcCartesianPoint((100.,100.,2732.701106468120543))\n",
      "#12394=IfcCartesianPoint((100.,-100.,2900.521032703576566))\n",
      "#12395=IfcCartesianPoint((100.,-100.,0.))\n",
      "#12390=IfcCartesianPoint((100.,100.,0.))\n",
      "#12441=IfcPolyLoop((#12394,#12382,#12385,#12395))\n",
      "#12394=IfcCartesianPoint((100.,-100.,2900.521032703576566))\n",
      "#12382=IfcCartesianPoint((-100.,-100.,2900.521032703575202))\n",
      "#12385=IfcCartesianPoint((-100.,-100.,0.))\n",
      "#12395=IfcCartesianPoint((100.,-100.,0.))\n",
      "#12444=IfcPolyLoop((#12382,#12394,#12389,#12383))\n",
      "#12382=IfcCartesianPoint((-100.,-100.,2900.521032703575202))\n",
      "#12394=IfcCartesianPoint((100.,-100.,2900.521032703576566))\n",
      "#12389=IfcCartesianPoint((100.,100.,2732.701106468120543))\n",
      "#12383=IfcCartesianPoint((-100.,100.,2732.701106468118724))\n",
      "#12447=IfcPolyLoop((#12385,#12384,#12390,#12395))\n",
      "#12385=IfcCartesianPoint((-100.,-100.,0.))\n",
      "#12384=IfcCartesianPoint((-100.,100.,0.))\n",
      "#12390=IfcCartesianPoint((100.,100.,0.))\n",
      "#12395=IfcCartesianPoint((100.,-100.,0.))\n"
     ]
    }
   ],
   "source": [
    "def get_object_geometry(ifc_entity):\n",
    "    object_Representation = ifc_entity.Representation\n",
    "    print(object_Representation)\n",
    "    if object_Representation.is_a(\"IfcProductDefinitionShape\"):\n",
    "        object_Representations = object_Representation.Representations\n",
    "        for object_Representation_one in object_Representations:\n",
    "            print(object_Representation_one)\n",
    "            if object_Representation_one.is_a(\"IfcShapeRepresentation\"):\n",
    "                items = object_Representation_one.Items\n",
    "                for item in items:\n",
    "                    print(item)\n",
    "                    if item.is_a(\"IfcMappedItem\"):\n",
    "                        shape = item.MappingSource.MappedRepresentation\n",
    "                        print(shape)\n",
    "                        for sub_item in shape.Items:\n",
    "                            print(sub_item)\n",
    "                            if sub_item.is_a(\"IfcFacetedBrep\"):\n",
    "                                for one_face in sub_item.Outer.CfsFaces:\n",
    "                                    print(one_face.Bounds[0].Bound)\n",
    "                                    for one_plg in one_face.Bounds[0].Bound.Polygon:\n",
    "                                        print(one_plg)\n",
    "\n",
    "\n",
    "ifc_column_id = '3ZZpg7C_CNTUvpxzN75M8Y'\n",
    "ifc_column = ifc_file.by_guid(ifc_column_id)\n",
    "\n",
    "geometry_props = get_object_geometry(ifc_column)\n",
    "\n",
    "geometry_props"
   ]
  },
  {
   "cell_type": "code",
   "execution_count": 21,
   "metadata": {},
   "outputs": [
    {
     "name": "stdout",
     "output_type": "stream",
     "text": [
      "{'1-й этаж': 71.05273929135467, '2-й этаж': 37.959999999999866, 'Кровля': 0.0}\n"
     ]
    }
   ],
   "source": [
    "def get_info_by_storeys_of_class(ifcfile, ifc_class_name, property_name):\n",
    "    out_info = dict()\n",
    "    ifc_storeys = ifcfile.by_type(\"IfcBuildingStorey\")\n",
    "    ifc_storeys.sort(key= lambda a:a.Name)\n",
    "    for one_storey in ifc_storeys:\n",
    "        temp_prop_value = 0.0\n",
    "        storey_objects = one_storey.ContainsElements[0].RelatedElements\n",
    "        for storey_object in storey_objects:\n",
    "            if storey_object.is_a(ifc_class_name):\n",
    "                dict_props = mguu_cource_tools.get_object_properties(storey_object)\n",
    "                prop_value = dict_props[property_name]\n",
    "                temp_prop_value += prop_value\n",
    "        out_info[one_storey.Name] = temp_prop_value\n",
    "    return out_info\n",
    "\n",
    "dict_storeys_volume = get_info_by_storeys_of_class(ifc_file, \"IfcSlab\", \"NetVolume\")\n",
    "print(str(dict_storeys_volume))"
   ]
  },
  {
   "cell_type": "code",
   "execution_count": 24,
   "metadata": {},
   "outputs": [
    {
     "data": {
      "text/plain": [
       "{'Renga_Structure-ver_1.ifc': 145.7650193359838,\n",
       " 'Renga_Structure-ver_2.ifc': 222.17301933598378,\n",
       " 'Renga_Structure-ver_3.ifc': 298.5810193359838,\n",
       " 'Renga_Structure-ver_4.ifc': 374.9890193359838,\n",
       " 'Renga_Structure-ver_5.ifc': 451.3970193359838,\n",
       " 'Renga_Structure-ver_6.ifc': 527.8050193359838,\n",
       " 'Renga_Structure-ver_7.ifc': 604.2130193359839,\n",
       " 'Renga_Structure-ver_8.ifc': 680.6210193359839}"
      ]
     },
     "execution_count": 24,
     "metadata": {},
     "output_type": "execute_result"
    }
   ],
   "source": [
    "#Перебор файлов в папке\n",
    "root_path_os= os.path.join(project_root, 'DataExamples', 'ProjectEvolution')\n",
    "files_ifc_list_temp = list()\n",
    "\n",
    "all_files_temp = os.listdir(root_path_os)\n",
    "for one_file in all_files_temp:\n",
    "    #print(one_file)\n",
    "    if one_file.endswith(\".ifc\"):\n",
    "        #print(one_file)\n",
    "        files_ifc_list_temp.append(os.path.join(root_path_os, one_file))\n",
    "\n",
    "#Работаем с файлами\n",
    "out_dict = dict()\n",
    "for one_path in files_ifc_list_temp:\n",
    "    #print(one_path)\n",
    "    ifc_file = _ifc.open(one_path)\n",
    "    file_name = os.path.basename(one_path)\n",
    "    props_info = get_info_by_storeys_of_class(ifc_file, \"IfcSlab\", \"NetVolume\")\n",
    "    temp_summa_value = 0.0\n",
    "    for k,v in props_info.items():\n",
    "        temp_summa_value += v\n",
    "    out_dict[file_name] = temp_summa_value\n",
    "\n",
    "out_dict"
   ]
  }
 ],
 "metadata": {
  "kernelspec": {
   "display_name": "Python 3",
   "language": "python",
   "name": "python3"
  },
  "language_info": {
   "codemirror_mode": {
    "name": "ipython",
    "version": 3
   },
   "file_extension": ".py",
   "mimetype": "text/x-python",
   "name": "python",
   "nbconvert_exporter": "python",
   "pygments_lexer": "ipython3",
   "version": "3.10.7"
  },
  "orig_nbformat": 4
 },
 "nbformat": 4,
 "nbformat_minor": 2
}
